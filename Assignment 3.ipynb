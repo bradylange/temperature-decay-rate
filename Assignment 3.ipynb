{
 "cells": [
  {
   "cell_type": "markdown",
   "metadata": {},
   "source": [
    "### <center>CSIS 452 - Applied Machine Learning</center>\n",
    "## Assignment 3 - due: 4/2/2020\n",
    "In this assignment you will experiment with linear regression and generalization concepts using attached decay-rate data set.  <p><i>Please ignore any <b>FutureWarnings</b> warnings when you run your code.</i></p>\n",
    "\n",
    "Enter your name as a comment in the cell below"
   ]
  },
  {
   "cell_type": "markdown",
   "metadata": {
    "collapsed": true
   },
   "source": [
    "Developer: Brady Lange\n",
    "\n",
    "Date: 04/01/2020\n",
    "\n",
    "Description: Temperature decay rate analysis with Linear Regression and Generalization.\n",
    "\n",
    "Course: Applied Machine Learning (CSIS 452)"
   ]
  },
  {
   "cell_type": "code",
   "execution_count": 1,
   "metadata": {},
   "outputs": [],
   "source": [
    "import numpy as np\n",
    "import matplotlib.pyplot as plt\n",
    "import pandas as pd\n",
    "from sklearn.preprocessing import StandardScaler\n",
    "from sklearn.metrics import mean_squared_error\n",
    "from sklearn.preprocessing import PolynomialFeatures\n",
    "from sklearn.linear_model import Ridge, SGDRegressor\n",
    "from sklearn.model_selection import train_test_split"
   ]
  },
  {
   "cell_type": "markdown",
   "metadata": {},
   "source": [
    "The decay rate data set has three attributes (<b>pressure, temperature, rate-of-decay)</b>.  The objective is to predict rate-of-decay based on values of pressure and temperature.  \n",
    "\n",
    "Let's first retrieve the data and extract <b>X</b> and <b>y</b> from it."
   ]
  },
  {
   "cell_type": "code",
   "execution_count": 2,
   "metadata": {},
   "outputs": [
    {
     "name": "stdout",
     "output_type": "stream",
     "text": [
      "Shape of X: \t (1000, 2)\n",
      "Shape of y: \t (1000, 1)\n",
      "[4.09839746 6.5585182 ]\n",
      "[0.30537107]\n"
     ]
    }
   ],
   "source": [
    "data_set = pd.read_csv(\"decay_rate.csv\")\n",
    "X = np.array(data_set.drop([\"rate-of-decay\"], axis = 1))\n",
    "y = np.array(data_set[[\"rate-of-decay\"]])\n",
    "\n",
    "print(\"Shape of X: \\t\", X.shape)\n",
    "print(\"Shape of y: \\t\", y.shape)\n",
    "print(X[0, :])\n",
    "print(y[0, :])"
   ]
  },
  {
   "cell_type": "markdown",
   "metadata": {},
   "source": [
    "## Expected output\n",
    "Shape of X: \t (1000, 2)\n",
    "\n",
    "Shape of y: \t (1000, 1)\n",
    "\n",
    "[ 4.09839746  6.5585182 ]\n",
    "\n",
    "[ 0.30537107]"
   ]
  },
  {
   "cell_type": "markdown",
   "metadata": {},
   "source": [
    "Now let's normalize X."
   ]
  },
  {
   "cell_type": "code",
   "execution_count": 3,
   "metadata": {},
   "outputs": [
    {
     "name": "stdout",
     "output_type": "stream",
     "text": [
      "Shape of Normalized X:\t (1000, 2)\n",
      "[-0.29391077 -1.53446589]\n"
     ]
    }
   ],
   "source": [
    "#YOUR CODE STARTS HERE\n",
    "scaler = StandardScaler()\n",
    "scaler.fit(X)\n",
    "normalized_X = scaler.transform(X)\n",
    "\n",
    "#YOUR CODE ENDS HERE\n",
    "print(\"Shape of Normalized X:\\t\", normalized_X.shape)\n",
    "print(normalized_X[0, :])"
   ]
  },
  {
   "cell_type": "markdown",
   "metadata": {},
   "source": [
    "## Expected output\n",
    "Shape of Normalized X:\t (1000, 2)\n",
    "\n",
    "[-0.29391077 -1.53446589]"
   ]
  },
  {
   "cell_type": "markdown",
   "metadata": {},
   "source": [
    "Now that we have preprocessed X, it is time to put aside a test set.  Use train_test_split function to generate X_train, X_test, y_train, y_test.  You must make sure that the data is shuffled prior to split. Set the random seed to 3 for shuffling."
   ]
  },
  {
   "cell_type": "code",
   "execution_count": 4,
   "metadata": {},
   "outputs": [
    {
     "name": "stdout",
     "output_type": "stream",
     "text": [
      "Shape of X_train: \t (900, 2)\n",
      "Shape of y_train: \t (900, 1)\n",
      "Shape of X_test: \t (100, 2)\n",
      "Shape of y_test: \t (100, 1)\n"
     ]
    }
   ],
   "source": [
    "X_train, X_test, y_train, y_test = train_test_split(normalized_X, \n",
    "                                                    y, \n",
    "                                                    test_size = 0.1, \n",
    "                                                    random_state = 3, \n",
    "                                                    shuffle = True)\n",
    "print(\"Shape of X_train: \\t\", X_train.shape)\n",
    "print(\"Shape of y_train: \\t\", y_train.shape)\n",
    "print(\"Shape of X_test: \\t\", X_test.shape)\n",
    "print(\"Shape of y_test: \\t\", y_test.shape)"
   ]
  },
  {
   "cell_type": "markdown",
   "metadata": {},
   "source": [
    "## Expected output\n",
    "Shape of X_train: \t (900, 2)\n",
    "\n",
    "Shape of y_train: \t (900, 1)\n",
    "\n",
    "Shape of X_test: \t (100, 2)\n",
    "\n",
    "Shape of y_test: \t (100, 1)"
   ]
  },
  {
   "cell_type": "markdown",
   "metadata": {},
   "source": [
    "We will need to now extract a validation set from the training set.  Use the train_test_split method to break the training set into a new training set and a validation set.  Validation set should be 20% of the original training set.  Since X_train is already shuffled, in the interest of efficiency, now let's make sure no further shuffling will take place.  We will maintain the full train_set in new variable X_train_val_combined and y_train_val_combined."
   ]
  },
  {
   "cell_type": "code",
   "execution_count": 5,
   "metadata": {},
   "outputs": [
    {
     "name": "stdout",
     "output_type": "stream",
     "text": [
      "Shape of X_train: \t (720, 2)\n",
      "Shape of X_val: \t (180, 2)\n",
      "Shape of y_train: \t (720, 1)\n",
      "Shape of y_val: \t (180, 1)\n"
     ]
    }
   ],
   "source": [
    "X_train_val_combined = X_train\n",
    "y_train_val_combined = y_train\n",
    "X_train, X_val, y_train, y_val = train_test_split(X_train, \n",
    "                                                  y_train, \n",
    "                                                  test_size = 0.2, \n",
    "                                                  shuffle = False)\n",
    "print(\"Shape of X_train: \\t\", X_train.shape)\n",
    "print(\"Shape of X_val: \\t\", X_val.shape)\n",
    "print(\"Shape of y_train: \\t\", y_train.shape)\n",
    "print(\"Shape of y_val: \\t\", y_val.shape)"
   ]
  },
  {
   "cell_type": "markdown",
   "metadata": {},
   "source": [
    "## Expected output\n",
    "Shape of X_train: \t (720, 2)\n",
    "\n",
    "Shape of X_val: \t (180, 2)\n",
    "\n",
    "Shape of y_train: \t (720, 1)\n",
    "\n",
    "Shape of y_val: \t (180, 1)"
   ]
  },
  {
   "cell_type": "markdown",
   "metadata": {},
   "source": [
    "Let's train a linear regression model using Stochastic Gradient Descent experiment with different learning rates (Use a random seed of 1 for model construction).  Write a for loop that would train an SGDRegressor using Max_iter of 1000 and learning rates of 0.0001, 0.001, 0.01, 0.1, 1, and 10.  The code should produce the learning rate used, the MSE on training and MSE on validation for each learning rate.  The code should also maintain these errors so that they can be plotted once the loop is done.  Feel Free to experiment with other learning rates, but please only report for the specified learning rates."
   ]
  },
  {
   "cell_type": "code",
   "execution_count": 6,
   "metadata": {},
   "outputs": [
    {
     "name": "stdout",
     "output_type": "stream",
     "text": [
      "lr: 0.0001; MSE_train: 0.2771, MSE_val: 0.2939\n",
      "\n",
      "lr: 0.001; MSE_train: 0.0182, MSE_val: 0.0245\n",
      "\n",
      "lr: 0.01; MSE_train: 0.0103, MSE_val: 0.0132\n",
      "\n",
      "lr: 0.1; MSE_train: 0.0104, MSE_val: 0.0130\n",
      "\n",
      "lr: 1; MSE_train: 0.0150, MSE_val: 0.0165\n",
      "\n",
      "lr: 10; MSE_train: 766147481117738573758464.0000, MSE_val: 767019999448507455897600.0000\n",
      "\n"
     ]
    },
    {
     "data": {
      "image/png": "[encoded data removed]",
      "text/plain": [
       "<Figure size 432x288 with 1 Axes>"
      ]
     },
     "metadata": {
      "needs_background": "light"
     },
     "output_type": "display_data"
    }
   ],
   "source": [
    "max_iterations = 1000\n",
    "MSE_train = []\n",
    "MSE_val = []\n",
    "learning_rates = [0.0001, 0.001, 0.01, 0.1, 1, 10]\n",
    "best_lr = learning_rates[0]\n",
    "for learning_rate in learning_rates:\n",
    "    linear_regression_model = SGDRegressor(eta0 = learning_rate, \n",
    "                                           max_iter = max_iterations, \n",
    "                                           random_state = 1)\n",
    "    linear_regression_model.fit(X_train, y_train.ravel())\n",
    "    h_train = linear_regression_model.predict(X_test)\n",
    "    h_val = linear_regression_model.predict(X_val)\n",
    "    mse_train = mean_squared_error(y_test, h_train)\n",
    "    MSE_train.append(mse_train)\n",
    "    mse_val = mean_squared_error(y_val, h_val)\n",
    "    MSE_val.append(mse_val)\n",
    "    print(\"lr: {0}; MSE_train: {1:.4f}, MSE_val: {2:.4f}\\n\".format(linear_regression_model.eta0, \n",
    "                                                                   mse_train, \n",
    "                                                                   mse_val))\n",
    "\n",
    "# Combine learning rates and MSEs\n",
    "lr_mse = pd.concat([pd.DataFrame(learning_rates, columns = [\"learning_rate\"]), \n",
    "                    pd.DataFrame(MSE_val, columns = [\"mse_val\"])], \n",
    "                   axis = 1)\n",
    "plt.plot(MSE_train, label = \"Train MSE\")\n",
    "plt.plot(MSE_val, \"r\", label = \"Validation MSE\")\n",
    "plt.legend()\n",
    "plt.show()"
   ]
  },
  {
   "cell_type": "markdown",
   "metadata": {},
   "source": [
    "## Expected output\n",
    "<img src=\"Figure1.png\" width=\"40%\" height=\"40%\">"
   ]
  },
  {
   "cell_type": "markdown",
   "metadata": {},
   "source": [
    "Identify the best learning rate from the experiment you ran in the last step.  Use this learning rate to train a linear regression model with Stochastic Gradient Descent on the data that is composed of all samples from the training set and  validation set combined.  Use a random seed of 1 for model construction."
   ]
  },
  {
   "cell_type": "code",
   "execution_count": 7,
   "metadata": {},
   "outputs": [
    {
     "name": "stdout",
     "output_type": "stream",
     "text": [
      "0.010440553018954569\n"
     ]
    }
   ],
   "source": [
    "best_lr = lr_mse[lr_mse[\"mse_val\"] == lr_mse[\"mse_val\"].min()].loc[:, \"learning_rate\"].values\n",
    "linear_regression_model = SGDRegressor(eta0 = best_lr, max_iter = max_iterations, random_state = 1)\n",
    "linear_regression_model.fit(X_train_val_combined, y_train_val_combined.ravel())\n",
    "h_test = linear_regression_model.predict(X_test)\n",
    "print(mean_squared_error(y_test, h_test))"
   ]
  },
  {
   "cell_type": "markdown",
   "metadata": {},
   "source": [
    "## Expected output\n",
    "0.0102556838767"
   ]
  },
  {
   "cell_type": "markdown",
   "metadata": {},
   "source": [
    "Although the resulting MSE is good, let's see if we could do better.  Produce the learning curves for the model. Use a random seed of 1 for model construction. "
   ]
  },
  {
   "cell_type": "code",
   "execution_count": 8,
   "metadata": {},
   "outputs": [],
   "source": [
    "import numpy as np\n",
    "import matplotlib.pyplot as plt\n",
    "from sklearn.metrics import mean_squared_error\n",
    "from sklearn.model_selection import train_test_split\n",
    "\n",
    "def plot_learning_curves(model, X_train, y_train, X_val, y_val):\n",
    "    train_errors, val_errors = [], []\n",
    "    for m in range(5, len(X_train)):\n",
    "        model.fit(X_train[:m], y_train[:m])\n",
    "        h_train = model.predict(X_train[:m])\n",
    "        h_val = model.predict(X_val)\n",
    "        train_errors.append(mean_squared_error(y_train[:m], h_train[:m]))\n",
    "        val_errors.append(mean_squared_error(y_val, h_val))\n",
    "    plt.plot(np.sqrt(train_errors), \"r-+\", linewidth = 2, label = \"Training Set\")\n",
    "    plt.plot(np.sqrt(val_errors), \"b-\", linewidth = 3, label = \"Validation Set\")"
   ]
  },
  {
   "cell_type": "code",
   "execution_count": 9,
   "metadata": {},
   "outputs": [
    {
     "data": {
      "image/png": "[encoded data removed]",
      "text/plain": [
       "<Figure size 432x288 with 1 Axes>"
      ]
     },
     "metadata": {
      "needs_background": "light"
     },
     "output_type": "display_data"
    }
   ],
   "source": [
    "linear_regression_model = SGDRegressor(eta0 = best_lr, max_iter = max_iterations, random_state = 1)\n",
    "plot_learning_curves(linear_regression_model, X_train, y_train.ravel(), X_val, y_val)\n",
    "plt.legend()\n",
    "plt.show()"
   ]
  },
  {
   "cell_type": "markdown",
   "metadata": {},
   "source": [
    "## Expected output\n",
    "<img src=\"Figure2.png\" width=\"40%\" height=\"40%\">"
   ]
  },
  {
   "cell_type": "markdown",
   "metadata": {},
   "source": [
    "You should be able to see that the training and validation MSE converge very quickly and then remains steady.  This indicates a possible bias issue.  Let's see if the error improves if we can make the model more flexible.  Train the model using a polynomial of degree 30 and measure the performance.\n",
    "\n",
    "Lets start with the original data set X and y and preprocess using the following steps :\n",
    "\n",
    "a) Generate the polynomial features and assign the results in X_poly.\n",
    "\n",
    "b) Normalize the new data using StandardScaler\n",
    "\n",
    "c) Split X and y to train, test and validation as we did earlier. Set the random seed to 2 for shuffling.\n"
   ]
  },
  {
   "cell_type": "code",
   "execution_count": 10,
   "metadata": {},
   "outputs": [
    {
     "name": "stdout",
     "output_type": "stream",
     "text": [
      "Shape of X_poly: \t (1000, 495)\n",
      "Shape of Normalized X:\t (1000, 495)\n",
      "Shape of X_train_poly: \t (900, 495)\n",
      "Shape of y_train: \t (900, 1)\n",
      "Shape of X_test_poly: \t (100, 495)\n",
      "Shape of y_test: \t (100, 1)\n",
      "Shape of X_train: \t (720, 495)\n",
      "Shape of X_val: \t (180, 495)\n",
      "Shape of y_train: \t (720, 1)\n",
      "Shape of y_val: \t (180, 1)\n"
     ]
    }
   ],
   "source": [
    "#Step a: Generate the polynomial features and assign the results in X_poly\n",
    "poly_features = PolynomialFeatures(degree = 30, include_bias = False)\n",
    "X_poly = poly_features.fit_transform(X)\n",
    "print(\"Shape of X_poly: \\t\", X_poly.shape)\n",
    "\n",
    "#Step b: Normalize\n",
    "scaler = StandardScaler()\n",
    "scaler.fit(X_poly)\n",
    "normalized_X_poly = scaler.transform(X_poly)\n",
    "print(\"Shape of Normalized X:\\t\", normalized_X_poly.shape)\n",
    "\n",
    "#Step C: Generate train, test and validation sets\n",
    "X_train_poly, X_test_poly, y_train, y_test = train_test_split(normalized_X_poly, \n",
    "                                                              y, \n",
    "                                                              test_size = 0.1, \n",
    "                                                              random_state = 2, \n",
    "                                                              shuffle = True)\n",
    "print(\"Shape of X_train_poly: \\t\", X_train_poly.shape)\n",
    "print(\"Shape of y_train: \\t\", y_train.shape)\n",
    "print(\"Shape of X_test_poly: \\t\", X_test_poly.shape)\n",
    "print(\"Shape of y_test: \\t\", y_test.shape)\n",
    "\n",
    "X_train_val_poly_combined = X_train_poly\n",
    "y_train_val_combined = y_train\n",
    "X_train_poly, X_val_poly, y_train, y_val = train_test_split(X_train_val_poly_combined, \n",
    "                                                            y_train_val_combined,\n",
    "                                                            test_size = 0.2,\n",
    "                                                            random_state = 2,\n",
    "                                                            shuffle = True)\n",
    "print(\"Shape of X_train: \\t\", X_train_poly.shape)\n",
    "print(\"Shape of X_val: \\t\", X_val_poly.shape)\n",
    "print(\"Shape of y_train: \\t\", y_train.shape)\n",
    "print(\"Shape of y_val: \\t\", y_val.shape)"
   ]
  },
  {
   "cell_type": "markdown",
   "metadata": {},
   "source": [
    "## Expected output\n",
    "Shape of X_poly: \t (1000, 495)\n",
    "\n",
    "Shape of Normalized X:\t (1000, 495)\n",
    "\n",
    "Shape of X_train_poly: \t (900, 495)\n",
    "\n",
    "Shape of y_train: \t (900, 1)\n",
    "\n",
    "Shape of X_test_poly: \t (100, 495)\n",
    "\n",
    "Shape of y_test: \t (100, 1)\n",
    "\n",
    "Shape of X_train: \t (720, 495)\n",
    "\n",
    "Shape of X_val: \t (180, 495)\n",
    "\n",
    "Shape of y_train: \t (720, 1)\n",
    "\n",
    "Shape of y_val: \t (180, 1)\n"
   ]
  },
  {
   "cell_type": "markdown",
   "metadata": {},
   "source": [
    "Let's train a linear regression model using Stochastic Gradient Descent experiment with different learning rates on the new data set.  Write a for loop that would train an SGDRegressor using Max_iter of 1000 and learning rates of 0.00001, 0.00003, 0.0001, 0.0003, 0.001.  The code should produce the learning rate used, the MSE on training and MSE on validation for each learning rate.  The code should also maintain these errors so that they can be plotted once the loop is done.  Feel Free to experiment with other learning rates, but please only report for the specified learning rates. Use a random seed of 1 for model construction."
   ]
  },
  {
   "cell_type": "code",
   "execution_count": 12,
   "metadata": {},
   "outputs": [
    {
     "name": "stdout",
     "output_type": "stream",
     "text": [
      "lr: 1e-05; MSE_train: 1.6949, MSE_val: 1.4471\n",
      "\n",
      "lr: 3e-05; MSE_train: 0.9285, MSE_val: 0.8659\n",
      "\n",
      "lr: 0.0001; MSE_train: 0.2696, MSE_val: 0.2683\n",
      "\n",
      "lr: 0.0003; MSE_train: 0.0694, MSE_val: 0.0719\n",
      "\n",
      "lr: 0.001; MSE_train: 0.0112, MSE_val: 0.0122\n",
      "\n"
     ]
    },
    {
     "data": {
      "image/png": "[encoded data removed]",
      "text/plain": [
       "<Figure size 432x288 with 1 Axes>"
      ]
     },
     "metadata": {
      "needs_background": "light"
     },
     "output_type": "display_data"
    }
   ],
   "source": [
    "max_iterations = 1000\n",
    "MSE_train = []\n",
    "MSE_val = []\n",
    "learning_rates = [0.00001, 0.00003, 0.0001, 0.0003, 0.001]\n",
    "for learning_rate in learning_rates:\n",
    "    poly_regression_model = SGDRegressor(eta0 = learning_rate, \n",
    "                                         max_iter = max_iterations, \n",
    "                                         random_state = 1)\n",
    "    poly_regression_model.fit(X_train_poly, y_train.ravel())\n",
    "    h_train = poly_regression_model.predict(X_test_poly)\n",
    "    h_val = poly_regression_model.predict(X_val_poly)\n",
    "    mse_train = mean_squared_error(y_test, h_train)\n",
    "    MSE_train.append(mse_train)\n",
    "    mse_val = mean_squared_error(y_val, h_val)\n",
    "    MSE_val.append(mse_val)\n",
    "    print(\"lr: {0}; MSE_train: {1:.4f}, MSE_val: {2:.4f}\\n\".format(poly_regression_model.eta0, \n",
    "                                                                   mse_train, \n",
    "                                                                   mse_val))\n",
    "\n",
    "# Combine learning rates and MSEs\n",
    "lr_mse = pd.concat([pd.DataFrame(learning_rates, columns = [\"learning_rate\"]), \n",
    "                    pd.DataFrame(MSE_val, columns = [\"mse_val\"])], \n",
    "                   axis = 1)\n",
    "\n",
    "plt.plot(MSE_train, label = \"Train MSE\")\n",
    "plt.plot(MSE_val, \"r\", label = \"Validation MSE\")\n",
    "plt.legend()\n",
    "plt.show()"
   ]
  },
  {
   "cell_type": "markdown",
   "metadata": {},
   "source": [
    "## Expected output\n",
    "<img src=\"Figure3.png\" width=\"40%\" height=\"40%\">"
   ]
  },
  {
   "cell_type": "markdown",
   "metadata": {},
   "source": [
    "Identify the best learning rate from the experiment you ran in the last step.  Use this learning rate to train a linear regression model with Stochastic Gradient Descent on the data that is composed of all samples from the training set and validation set combined. Use a random seed of 1 for model construction."
   ]
  },
  {
   "cell_type": "code",
   "execution_count": 13,
   "metadata": {},
   "outputs": [
    {
     "name": "stdout",
     "output_type": "stream",
     "text": [
      "0.011169983935195677\n"
     ]
    }
   ],
   "source": [
    "best_lr = lr_mse[lr_mse[\"mse_val\"] == lr_mse[\"mse_val\"].min()].loc[:, \"learning_rate\"].values\n",
    "ploy_regression_model = SGDRegressor(eta0 = best_lr, max_iter = max_iterations, random_state = 1)\n",
    "ploy_regression_model.fit(X_train_val_poly_combined, y_train_val_combined.ravel())\n",
    "h_test = poly_regression_model.predict(X_test_poly)\n",
    "print(mean_squared_error(y_test, h_test))"
   ]
  },
  {
   "cell_type": "markdown",
   "metadata": {},
   "source": [
    "## Expected output\n",
    "0.00313735829305"
   ]
  },
  {
   "cell_type": "markdown",
   "metadata": {},
   "source": [
    "The resulting MSE is much better now, let's see if we could do even better.  Produce the learning curves for the polynomial model.  Use a random seed of 1 for model construction. \n",
    "\n",
    "This may take a while to run, so move on to something else and come back in about 1/2 hour.  "
   ]
  },
  {
   "cell_type": "code",
   "execution_count": 14,
   "metadata": {},
   "outputs": [
    {
     "data": {
      "image/png": "[encoded data removed]",
      "text/plain": [
       "<Figure size 432x288 with 1 Axes>"
      ]
     },
     "metadata": {
      "needs_background": "light"
     },
     "output_type": "display_data"
    }
   ],
   "source": [
    "poly_regression_model = SGDRegressor(eta0 = best_lr, max_iter = max_iterations, random_state = 1)\n",
    "plot_learning_curves(poly_regression_model, X_train_poly, y_train.ravel(), X_val_poly, y_val)\n",
    "plt.legend()\n",
    "plt.show()"
   ]
  },
  {
   "cell_type": "markdown",
   "metadata": {},
   "source": [
    "## Expected output\n",
    "<img src=\"Figure4.png\" width=\"40%\" height=\"40%\">"
   ]
  },
  {
   "cell_type": "markdown",
   "metadata": {},
   "source": [
    "You should be able to see improvement in MSE.  You should also observe that the training and validation MSE converge over time and that the validation error improves somewhat as new training samples are added.  This indicate a possible variance issue.  Let's see if the error improves if we make the model less flexible through regularization.  \n",
    "\n",
    "Train ridge regression model on the same poly datasets.  Use the best learning rate discovered in your poly experiment.   Write a for loop to experiment with regularization parameters of 0.0001, 0.001, 0.01, 0.1, 0.2. The code should produce the regularization value that was used, the MSE on training and MSE on validation for each regularization value. Feel Free to experiment with other regularization values, but please only report for the specified values. Use a random seed of 1 for model construction. "
   ]
  },
  {
   "cell_type": "code",
   "execution_count": 15,
   "metadata": {},
   "outputs": [
    {
     "name": "stdout",
     "output_type": "stream",
     "text": [
      "alpha: 0.0001, MSE_train: 0.0026, MSE_val: 0.0028\n",
      "\n",
      "alpha: 0.001, MSE_train: 0.0026, MSE_val: 0.0028\n",
      "\n",
      "alpha: 0.01, MSE_train: 0.0025, MSE_val: 0.0028\n",
      "\n",
      "alpha: 0.1, MSE_train: 0.0025, MSE_val: 0.0028\n",
      "\n",
      "alpha: 0.2, MSE_train: 0.0025, MSE_val: 0.0028\n",
      "\n"
     ]
    },
    {
     "data": {
      "image/png": "[encoded data removed]",
      "text/plain": [
       "<Figure size 432x288 with 1 Axes>"
      ]
     },
     "metadata": {
      "needs_background": "light"
     },
     "output_type": "display_data"
    }
   ],
   "source": [
    "MSE_train = []\n",
    "MSE_val = []\n",
    "reg_rates = [0.0001, 0.001, 0.01, 0.1, 0.2]\n",
    "for regularization_param in reg_rates:\n",
    "    ridge_regression_model = Ridge(alpha = regularization_param,\n",
    "                                   max_iter = max_iterations, \n",
    "                                   random_state = 1)\n",
    "    ridge_regression_model.fit(X_train_poly, y_train.ravel())\n",
    "    h_train = ridge_regression_model.predict(X_test_poly)\n",
    "    h_val = ridge_regression_model.predict(X_val_poly)\n",
    "    mse_train = mean_squared_error(y_test, h_train)\n",
    "    MSE_train.append(mse_train)\n",
    "    mse_val = mean_squared_error(y_val, h_val)\n",
    "    MSE_val.append(mse_val)\n",
    "    print(\"alpha: {0}, MSE_train: {1:.4f}, MSE_val: {2:.4f}\\n\".format(ridge_regression_model.alpha, \n",
    "                                                                      mse_train, \n",
    "                                                                      mse_val))\n",
    "# Combine learning rates and MSEs\n",
    "rr_mse = pd.concat([pd.DataFrame(reg_rates, columns = [\"regularization_rate\"]), \n",
    "                    pd.DataFrame(MSE_val, columns = [\"mse_val\"])], \n",
    "                   axis = 1)\n",
    "plt.plot(MSE_train, label = \"Train MSE\")\n",
    "plt.plot(MSE_val, \"r\", label = \"Validation MSE\")\n",
    "plt.legend()\n",
    "plt.show()"
   ]
  },
  {
   "cell_type": "markdown",
   "metadata": {},
   "source": [
    "## Expected output\n",
    "<img src=\"Figure5.png\" width=\"40%\" height=\"40%\">"
   ]
  },
  {
   "cell_type": "markdown",
   "metadata": {
    "collapsed": true
   },
   "source": [
    "Identify the best regularization parameters from the experiment you ran in the last step.  Use this learning rate to train a ridge regression model with Stochastic Gradient Descent on the data that is composed of all samples from the training set and validation set combined. Use a random seed of 1 for model construction. "
   ]
  },
  {
   "cell_type": "code",
   "execution_count": 16,
   "metadata": {
    "scrolled": true
   },
   "outputs": [
    {
     "name": "stdout",
     "output_type": "stream",
     "text": [
      "0.05211177498138987\n"
     ]
    }
   ],
   "source": [
    "best_alpha = rr_mse[rr_mse[\"mse_val\"] == rr_mse[\"mse_val\"].min()].loc[:, \"regularization_rate\"].values\n",
    "ridge_regression_model = SGDRegressor(penalty = \"l2\", \n",
    "                                      eta0 = best_lr, \n",
    "                                      alpha = best_alpha, \n",
    "                                      max_iter = max_iterations, \n",
    "                                      random_state = 1)\n",
    "ridge_regression_model.fit(X_train_val_poly_combined, y_train_val_combined.ravel())\n",
    "h_test = ridge_regression_model.predict(X_test_poly)\n",
    "print(mean_squared_error(y_test, h_test))"
   ]
  },
  {
   "cell_type": "markdown",
   "metadata": {},
   "source": [
    "## Expected output\n",
    "0.0031429175403844727"
   ]
  },
  {
   "cell_type": "markdown",
   "metadata": {},
   "source": [
    "Did regularization help?  Explain."
   ]
  },
  {
   "cell_type": "code",
   "execution_count": null,
   "metadata": {},
   "outputs": [],
   "source": [
    "# No."
   ]
  }
 ],
 "metadata": {
  "kernelspec": {
   "display_name": "Python 3",
   "language": "python",
   "name": "python3"
  },
  "language_info": {
   "codemirror_mode": {
    "name": "ipython",
    "version": 3
   },
   "file_extension": ".py",
   "mimetype": "text/x-python",
   "name": "python",
   "nbconvert_exporter": "python",
   "pygments_lexer": "ipython3",
   "version": "3.7.7"
  }
 },
 "nbformat": 4,
 "nbformat_minor": 2
}
